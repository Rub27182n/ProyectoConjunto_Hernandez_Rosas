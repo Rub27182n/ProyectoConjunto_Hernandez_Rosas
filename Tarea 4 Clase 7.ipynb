{
 "cells": [
  {
   "cell_type": "markdown",
   "metadata": {},
   "source": [
    "<img style=\"float: left; margin: 30px 15px 15px 15px;\" src=\"https://pngimage.net/wp-content/uploads/2018/06/logo-iteso-png-5.png\" width=\"300\" height=\"500\" /> \n",
    "    \n",
    "    \n",
    "### <font color='navy'> Simulación de procesos financieros. \n",
    "\n",
    "**Nombres:** Rubén Hernández Guevara / Antonio de Santiago Rosas Saldaña\n",
    "\n",
    "**Fecha:** 18 de febrero del 2021.\n",
    "\n",
    "**Expediente** : 717710/713803\n",
    "**Profesor:** Oscar David Jaramillo Zuluaga.\n",
    "\n",
    "# Tarea 4: Clase 7"
   ]
  },
  {
   "cell_type": "markdown",
   "metadata": {},
   "source": [
    "> https://github.com/Rub27182n/ProyectoConjunto_Hernandez_Rosas.git"
   ]
  },
  {
   "cell_type": "markdown",
   "metadata": {},
   "source": [
    "# 1\n",
    "Como ejemplo simple de una simulación de Monte Carlo, considere calcular la probabilidad de una suma particular del lanzamiento de tres dados (cada dado tiene valores del uno al seis). Además cada dado tiene las siguientes carácterísticas: el primer dado no está cargado (distribución uniforme todos son equiprobables); el segundo y tercer dado están cargados basados en una distribución binomial con parámetros (`n=5, p=0.5` y `n=5, p=0.2`). Calcule la probabilidad de que la suma resultante sea 7, 14 o 18. "
   ]
  },
  {
   "cell_type": "markdown",
   "metadata": {},
   "source": [
    "> solución = (0.127, 0.01352, 1e-05)"
   ]
  },
  {
   "cell_type": "code",
   "execution_count": 1,
   "metadata": {},
   "outputs": [],
   "source": [
    "#Librerias a utilizar en la tarea\n",
    "import numpy as np\n",
    "import matplotlib.pyplot as plt\n",
    "import pandas as pd\n",
    "import os\n",
    "import scipy.stats as st"
   ]
  },
  {
   "cell_type": "code",
   "execution_count": 2,
   "metadata": {},
   "outputs": [
    {
     "data": {
      "text/plain": [
       "0.0"
      ]
     },
     "execution_count": 2,
     "metadata": {},
     "output_type": "execute_result"
    }
   ],
   "source": [
    "d_no_cargado = np.random.randint(1,7,10000)\n",
    "d_cargado1 = st.binom(n=5, p=0.5).rvs(size=10000)\n",
    "d_cargado2 = st.binom(n=5, p=0.2).rvs(size=10000)\n",
    "suma_dados = d_no_cargado+ d_cargado1+ d_cargado2\n",
    "def probabilidad_dados(p: 'Aquí se va a poner el número del cual quieres saber la probabilidad'):\n",
    "    x= len(suma_dados[suma_dados==p])/len(suma_dados)\n",
    "    return x\n",
    "probabilidad_dados(18)"
   ]
  },
  {
   "cell_type": "code",
   "execution_count": 14,
   "metadata": {},
   "outputs": [
    {
     "data": {
      "text/plain": [
       "(0.158, 0.0006, 0.0)"
      ]
     },
     "execution_count": 14,
     "metadata": {},
     "output_type": "execute_result"
    }
   ],
   "source": [
    "# Solución Rubén\n",
    "dado = np.random.randint(1,7,10000)\n",
    "dado2 = st.binom(n=5, p=0.5).rvs(size=10000)\n",
    "dado3 = st.binom(n=5, p=0.2).rvs(size=10000)\n",
    "\n",
    " \n",
    "\n",
    "suma = dado + dado2 + dado3\n",
    "p1= len(suma_dados[suma==7])/len(suma_dados)\n",
    "p2 =  len(suma_dados[suma==14])/len(suma_dados)\n",
    "p3 =  len(suma_dados[suma==18])/len(suma_dados)\n",
    "\n",
    "p1, p2, p3"
   ]
  },
  {
   "cell_type": "markdown",
   "metadata": {},
   "source": [
    "# 2 Ejercicio de aplicación- Cafetería Central\n",
    "\n",
    "Premisas para la simulación:\n",
    "- Negocio de alimentos que vende bebidas y alimentos.\n",
    "- Negocio dentro del ITESO.\n",
    "- Negocio en cafetería central.\n",
    "- Tipo de clientes (hombres y mujeres).\n",
    "- Rentabilidad del 60%.\n",
    "\n",
    "## Objetivo\n",
    "Realizar una simulación estimado el tiempo medio que se tardaran los clientes en ser atendidos entre el horario de 6:30 a 1 pm. Además saber el consumo. \n",
    "**Analizar supuestos y limitantes**"
   ]
  },
  {
   "cell_type": "markdown",
   "metadata": {},
   "source": [
    "## Supuestos en simulación\n",
    "Clasificación de clientes: \n",
    "- Mujer  = 1 $\\longrightarrow$ aleatorio < 0.5\n",
    "- Hombre = 0 $\\longrightarrow$ aleatorio $\\geq$ 0.5.\n",
    "\n",
    "Condiciones iniciales:\n",
    "- Todas las distrubuciones de probabilidad se supondrán uniformes.\n",
    "- Tiempo de simulación: 6:30 am - 1:30pm $\\longrightarrow$ T = 7 horas = 25200 seg.\n",
    "- Tiempo de llegada hasta ser atendido: Min=5seg, Max=30seg.\n",
    "- Tiempo que tardan los clientes en ser atendidos:\n",
    "    - Mujer: Min = 1 min= 60seg, Max = 5 min = 300 seg\n",
    "    - Hombre: Min = 40 seg, Max = 2 min= 120 seg\n",
    "- Consumo según el tipo de cliente:\n",
    "    - Mujer: Min = 30 pesos, Max = 100 pesos\n",
    "    - Hombre: Min = 20 pesos, Max = 80 pesos\n",
    "\n",
    "Responder las siguientes preguntas basados en los datos del problema:\n",
    "1. ¿Cuáles fueron los gastos de los hombres y las mujeres en 5 días de trabajo?.\n",
    "2. ¿Cuál fue el consumo promedio de los hombres y mujeres?\n",
    "3. ¿Cuál fue el número de personas atendidas por día?\n",
    "4. ¿Cuál fue el tiempo de atención promedio?\n",
    "5. ¿Cuánto fue la ganancia promedio de la cafetería en 5 días de trabajo y su respectiva rentabilidad?"
   ]
  },
  {
   "cell_type": "code",
   "execution_count": 4,
   "metadata": {},
   "outputs": [],
   "source": [
    "################## Datos del problema\n",
    "d = 5\n",
    "T = 25200\n",
    "T_at_min = 5; T_at_max = 30\n",
    "T_mujer_min =60; T_mujer_max = 300\n",
    "T_hombre_min = 40; T_hombre_max = 120\n",
    "C_mujer_min = 30; C_mujer_max = 100\n",
    "C_hombre_min = 20; C_hombre_max = 80\n"
   ]
  },
  {
   "cell_type": "code",
   "execution_count": 7,
   "metadata": {},
   "outputs": [],
   "source": [
    "# Función\n",
    "def Cafeteria(personas,T):\n",
    "    \n",
    "    #Variables contadoras\n",
    "    g_hombre = 0\n",
    "    g_mujer = 0\n",
    "    g_total = 0\n",
    "    t_atencion = 0\n",
    "    cant_mujer = 0\n",
    "    cant_hombre = 0\n",
    "    n_atendidxs = 0\n",
    "    t_persona = 0\n",
    "    T_atencionPersonas = []\n",
    "    \n",
    "    while T >= t_atencion:\n",
    "        t_llegada = np.random.uniform(T_at_min,T_at_max)\n",
    "        if personas[n_atendidxs]<0.5:\n",
    "            t_mujer = np.random.uniform(T_mujer_min,T_mujer_max)\n",
    "            g_mujer += np.random.uniform(C_mujer_min,C_mujer_max)\n",
    "            t_atencion += t_mujer + t_llegada\n",
    "            g_total += g_mujer\n",
    "            t_persona = t_mujer + t_llegada\n",
    "            cant_mujer += 1\n",
    "            \n",
    "        else:\n",
    "            \n",
    "            t_hombre = np.random.uniform(T_hombre_min, T_hombre_max)\n",
    "            g_hombre += np.random.uniform(C_hombre_min, C_hombre_max)\n",
    "            t_atencion += t_hombre + t_llegada\n",
    "            g_total += g_hombre\n",
    "            t_persona = t_hombre + t_llegada\n",
    "            cant_hombre += 1\n",
    "            \n",
    "        n_atendidxs+=1\n",
    "        T_atencionPersonas.append(t_persona)\n",
    "        \n",
    "    t_prom_atencion = np.mean(T_atencionPersonas)\n",
    "    return np.array([g_mujer, g_hombre, t_atencion, cant_mujer, cant_hombre, t_prom_atencion, g_total, n_atendidxs])"
   ]
  },
  {
   "cell_type": "code",
   "execution_count": 8,
   "metadata": {},
   "outputs": [],
   "source": [
    "personas = np.random.rand(T)\n",
    "x = np.array([Cafeteria(personas, T) for i in range(5)])"
   ]
  },
  {
   "cell_type": "code",
   "execution_count": null,
   "metadata": {},
   "outputs": [],
   "source": [
    "# Función\n",
    "def Cafeteria(personas,T):\n",
    "    \n",
    "    #Variables contadoras\n",
    "    g_hombre = 0\n",
    "    g_mujer = 0\n",
    "    g_total = 0\n",
    "    t_atencion = 0\n",
    "    cant_mujer = 0\n",
    "    cant_hombre = 0\n",
    "    n_atendidxs = 0\n",
    "    t_persona = 0\n",
    "    T_atencionPersonas = []\n",
    "    \n",
    "    while T >= t_atencion:\n",
    "        t_llegada = np.random.uniform(T_at_min,T_at_max)\n",
    "        if personas[n_atendidxs]<0.5:\n",
    "            t_mujer = np.random.uniform(T_mujer_min,T_mujer_max)\n",
    "            g_mujer += np.random.uniform(C_mujer_min,C_mujer_max)\n",
    "            t_atencion += t_mujer + t_llegada\n",
    "            g_total += g_mujer\n",
    "            t_persona = t_mujer + t_llegada\n",
    "            cant_mujer += 1\n",
    "            \n",
    "        else:\n",
    "            \n",
    "            t_hombre = np.random.uniform(T_hombre_min, T_hombre_max)\n",
    "            g_hombre += np.random.uniform(C_hombre_min, C_hombre_max)\n",
    "            t_atencion += t_hombre + t_llegada\n",
    "            g_total += g_hombre\n",
    "            t_persona = t_hombre + t_llegada\n",
    "            cant_hombre += 1\n",
    "            \n",
    "        n_atendidxs+=1\n",
    "        T_atencionPersonas.append(t_persona)\n",
    "        \n",
    "    t_prom_atencion = np.mean(T_atencionPersonas)\n",
    "    return np.array([g_mujer, g_hombre, t_atencion, cant_mujer, cant_hombre, t_prom_atencion, g_total, n_atendidxs])\n",
    "personas = np.random.rand(T)\n",
    "x = np.array([Cafeteria(personas, T) for i in range(5)])"
   ]
  },
  {
   "cell_type": "markdown",
   "metadata": {},
   "source": [
    "> 1. ¿Cuáles fueron los gastos de los hombres y las mujeres en 5 días de trabajo?."
   ]
  },
  {
   "cell_type": "code",
   "execution_count": 9,
   "metadata": {},
   "outputs": [
    {
     "name": "stdout",
     "output_type": "stream",
     "text": [
      "Los gastos de hombres en los 5 días fueron: [4816.66143254 4672.38147435 4708.71623566 4899.32832838 4835.38716927]\n",
      "Los gastos de mujeres en los 5 días fueron: [4860.72081453 5085.36558366 5459.02187185 5110.74021346 5152.27200131]\n"
     ]
    }
   ],
   "source": [
    "print('Los gastos de hombres en los 5 días fueron:', x[:,1])\n",
    "print('Los gastos de mujeres en los 5 días fueron:', x[:,0])"
   ]
  },
  {
   "cell_type": "markdown",
   "metadata": {},
   "source": [
    "> 2. ¿Cuál fue el consumo promedio de los hombres y mujeres?"
   ]
  },
  {
   "cell_type": "code",
   "execution_count": 10,
   "metadata": {},
   "outputs": [
    {
     "name": "stdout",
     "output_type": "stream",
     "text": [
      "En promedio los hombres gastaron: 4786.494928038641\n",
      "En promedio los mujeres gastaron: 5133.624096963666\n"
     ]
    }
   ],
   "source": [
    "print('En promedio los hombres gastaron:', np.mean(x[:,1]))\n",
    "print('En promedio los mujeres gastaron:', np.mean(x[:,0]))"
   ]
  },
  {
   "cell_type": "markdown",
   "metadata": {},
   "source": [
    "> 3. ¿Cuál fue el número de personas atendidas por día?"
   ]
  },
  {
   "cell_type": "code",
   "execution_count": 11,
   "metadata": {},
   "outputs": [
    {
     "name": "stdout",
     "output_type": "stream",
     "text": [
      "El número de personas atendidas fueron: [173. 175. 177. 177. 177.]\n"
     ]
    }
   ],
   "source": [
    "print('El número de personas atendidas fueron:', x[:,-1])"
   ]
  },
  {
   "cell_type": "markdown",
   "metadata": {},
   "source": [
    "> 4. ¿Cuál fue el tiempo de atención promedio?"
   ]
  },
  {
   "cell_type": "code",
   "execution_count": 12,
   "metadata": {},
   "outputs": [
    {
     "name": "stdout",
     "output_type": "stream",
     "text": [
      "El tiempo promedio de atención fue:  143.90487552232113\n"
     ]
    }
   ],
   "source": [
    "print('El tiempo promedio de atención fue: ', np.mean(x[:, 5]))"
   ]
  },
  {
   "cell_type": "markdown",
   "metadata": {},
   "source": [
    "> 5. ¿Cuánto fue la ganancia promedio de la cafetería en 5 días de trabajo y su respectiva rentabilidad?"
   ]
  },
  {
   "cell_type": "code",
   "execution_count": 13,
   "metadata": {},
   "outputs": [
    {
     "name": "stdout",
     "output_type": "stream",
     "text": [
      "La ganancia promedio fue:  265213.92261563445\n"
     ]
    }
   ],
   "source": [
    "print(\"La ganancia promedio fue: \", np.mean(x[:, 6]*.6))"
   ]
  }
 ],
 "metadata": {
  "kernelspec": {
   "display_name": "Python 3",
   "language": "python",
   "name": "python3"
  },
  "language_info": {
   "codemirror_mode": {
    "name": "ipython",
    "version": 3
   },
   "file_extension": ".py",
   "mimetype": "text/x-python",
   "name": "python",
   "nbconvert_exporter": "python",
   "pygments_lexer": "ipython3",
   "version": "3.8.5"
  }
 },
 "nbformat": 4,
 "nbformat_minor": 4
}
